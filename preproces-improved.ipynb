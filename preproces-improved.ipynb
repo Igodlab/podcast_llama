{
 "cells": [
  {
   "cell_type": "markdown",
   "metadata": {
    "vscode": {
     "languageId": "plaintext"
    }
   },
   "source": [
    "# This notebook is a improved version of the PDF pre-processing of llama notebook\n",
    "\n",
    "In this notbook we implement our knowlegde on CoT, RAG and agentic systems for the procesing infomation o the documents.\n",
    "\n",
    "* Use a PDF (for now only text)\n",
    "* Use `groq-llama-3.2-3b-preview` for the proces of the file\n",
    "* Re write the PDF information on to a .txt for latter processing.\n",
    "\n",
    "For now the first test will be on the `Attention is all you need paper`."
   ]
  },
  {
   "cell_type": "code",
   "execution_count": 34,
   "metadata": {},
   "outputs": [],
   "source": [
    "import PyPDF2 \n",
    "from typing import Optional\n",
    "import os\n",
    "import torch \n",
    "from groq import Groq\n",
    "from tqdm.notebook import tqdm \n",
    "\n",
    "from dotenv import load_dotenv \n",
    "load_dotenv()\n",
    "import warnings\n",
    "warnings.filterwarnings(\"ignore\")"
   ]
  },
  {
   "cell_type": "markdown",
   "metadata": {},
   "source": [
    "Now let's check the pdf_path the name of the model we will use and declare the global variable\n"
   ]
  },
  {
   "cell_type": "code",
   "execution_count": 35,
   "metadata": {},
   "outputs": [],
   "source": [
    "doc_path = \"/home/mauricio/Documents/Projects/podcast_llama/pdf_docs\"\n",
    "model_1 = \"llama-3.2-3b-preview\"\n",
    "\n",
    "client = Groq(\n",
    "    api_key=os.getenv(\"GROQ_API_KEY\")\n",
    ")"
   ]
  },
  {
   "cell_type": "code",
   "execution_count": null,
   "metadata": {},
   "outputs": [],
   "source": []
  },
  {
   "cell_type": "code",
   "execution_count": null,
   "metadata": {},
   "outputs": [],
   "source": []
  }
 ],
 "metadata": {
  "kernelspec": {
   "display_name": "podcast-llama-cond-env",
   "language": "python",
   "name": "python3"
  },
  "language_info": {
   "codemirror_mode": {
    "name": "ipython",
    "version": 3
   },
   "file_extension": ".py",
   "mimetype": "text/x-python",
   "name": "python",
   "nbconvert_exporter": "python",
   "pygments_lexer": "ipython3",
   "version": "3.11.10"
  }
 },
 "nbformat": 4,
 "nbformat_minor": 2
}
