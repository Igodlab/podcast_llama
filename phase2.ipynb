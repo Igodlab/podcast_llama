{
 "cells": [
  {
   "cell_type": "markdown",
   "metadata": {},
   "source": [
    "# Phase 2: Story Structure"
   ]
  },
  {
   "cell_type": "markdown",
   "metadata": {},
   "source": [
    "This phase is the most important on this project. We are making the story structure so we basically have 3 steps for this:\n",
    "\n",
    "* Start defining the ASP approach.\n",
    "* Use the Sentiment Analysis to create emotional integration\n",
    "* The system generates multiple valid outlines that satisfy our constrains, ensuring both logical coherence and emotional resonance.\n",
    "\n",
    "So in more detail what we will be doing in code is defining multiple functions, here are the key components:\n",
    "\n",
    "1. Scene structure foundation.\n",
    "2. Narrative Functions.\n",
    "3. Constrain System.\n",
    "4. Implementation features.\n",
    " "
   ]
  },
  {
   "cell_type": "code",
   "execution_count": 10,
   "metadata": {},
   "outputs": [],
   "source": [
    "# import the principal libraries\n",
    "import pandas as pd \n",
    "import numpy as np \n",
    "import torch\n",
    "import os\n",
    "from groq import Groq, Client\n",
    "from dotenv import load_dotenv \n",
    "load_dotenv()\n",
    "\n",
    "import dspy\n",
    "\n",
    "\n",
    "# import typos\n",
    "from typing import Dict, Tuple, Optional, List, Set, Optional\n",
    "\n",
    "# import other libraries\n",
    "from enum import Enum \n",
    "from dataclasses import dataclass"
   ]
  },
  {
   "cell_type": "code",
   "execution_count": 11,
   "metadata": {},
   "outputs": [],
   "source": [
    "open_ai_api_key = os.getenv(\"OPENAI_API_KEY\")"
   ]
  },
  {
   "cell_type": "code",
   "execution_count": 39,
   "metadata": {},
   "outputs": [],
   "source": [
    "# import keys from .env\n",
    "load_dotenv()\n",
    "groq_api_key = os.getenv(\"GROQ_API_KEY\")\n",
    "client = Client(\n",
    "    api_key=groq_api_key\n",
    "    )\n",
    "llmo = dspy.LM('openai/gpt-4o-mini', api_key=open_ai_api_key)\n",
    "dspy.configure(lm=llmo)\n",
    "# Load the clean document\n",
    "# doc_path = \"cleaned_text.txt\"\n",
    "# with open(doc_path, \"r\") as f:\n",
    "#     INPUT_FILE = f.read()"
   ]
  },
  {
   "cell_type": "code",
   "execution_count": 41,
   "metadata": {},
   "outputs": [],
   "source": [
    "test_file = \"\"\"El águila, la liebre y el escarabajo.\n",
    "\n",
    "Estaba una liebre siendo perseguida por un águila, y viéndose perdida pidió ayuda a un escarabajo, suplicándole que le ayudara.\n",
    "\n",
    "Le pidió el escarabajo al águila que perdonara a su amiga. Pero eláguila, despreciando la insignificancia del escarabajo, devoró a la liebre en su presencia.\n",
    "\n",
    "Desde entonces, buscando vengarse, el escarabajo observaba los lugares donde el águila ponía sus huevos, y haciéndolos rodar, los tiraba a tierra. Viéndose el águila echada del lugar a donde quiera que fuera, recurrió a Zeus pidiéndole un lugar seguro para depositar sus huevos.\n",
    "\n",
    "Le ofreció Zeus colocarlos en su regazo, pero el escarabajo, viendo la táctica escapatoria, hizo una bolita de estiércol, voló y la dejó caer sobre el regazo de Zeus.\n",
    "Se levantó entonces Zeus para sacudirse aquella suciedad, y tiró por tierra los huevos sin darse cuenta. Por eso desde entonces, las águilas no ponen huevos en la época en que salen a volar los escarabajos.\n",
    "\n",
    "Enseñanza: Nunca desprecies lo que parece insignificante, pues no hay ser tan débil que no pueda alcanzarte.\"\"\""
   ]
  },
  {
   "cell_type": "markdown",
   "metadata": {},
   "source": [
    "### 1. Structure Scene Fundation"
   ]
  },
  {
   "cell_type": "code",
   "execution_count": 42,
   "metadata": {},
   "outputs": [],
   "source": [
    "class ExtractRelevantInformation(dspy.Signature):\n",
    "    \"\"\"Extract the relevant information and key themes about this story\"\"\"\n",
    "    input_text: str = dspy.InputField()\n",
    "    reasoning: str = dspy.OutputField(desc=\"Step by step reasoning and extraction of key themes\")\n",
    "    moral_of_the_story: str = dspy.OutputField(desc=\"The moral lesson or teaching (Enseñanza) of the story\")\n",
    "    key_themes: str = dspy.OutputField(desc=\"Key themes and main characters identified in the story\")\n",
    "\n",
    "class StoryCreation(dspy.Signature):\n",
    "    \"\"\"Based on the key themes and moral of the story, create an entertaining story\"\"\"\n",
    "    input_text: str = dspy.InputField()\n",
    "    themes: str = dspy.InputField()\n",
    "    moral: str = dspy.InputField()\n",
    "    story: str = dspy.OutputField(desc=\"Create an entertaining story incorporating the themes and moral\")\n"
   ]
  },
  {
   "cell_type": "code",
   "execution_count": 43,
   "metadata": {},
   "outputs": [],
   "source": [
    "class StoryStructure(dspy.Module):\n",
    "    def __init__(self):\n",
    "        super().__init__()\n",
    "        self.extract_relevant_information = dspy.ChainOfThought(ExtractRelevantInformation)\n",
    "        self.story_creation = dspy.ChainOfThought(StoryCreation)\n",
    "\n",
    "    def forward(self, input_text):\n",
    "        # First, extract themes and moral from the initial text\n",
    "        extracted_info = self.extract_relevant_information(\n",
    "            input_text=input_text\n",
    "        )\n",
    "        \n",
    "        # Then create the story using the extracted information\n",
    "        story = self.story_creation(\n",
    "            input_text=input_text,\n",
    "            themes=extracted_info.key_themes,\n",
    "            moral=extracted_info.moral_of_the_story\n",
    "        )\n",
    "        \n",
    "        return {\n",
    "            'themes': extracted_info.key_themes,\n",
    "            'moral': extracted_info.moral_of_the_story,\n",
    "            'story': story.story,\n",
    "            'reasoning': extracted_info.reasoning\n",
    "        }"
   ]
  },
  {
   "cell_type": "code",
   "execution_count": 44,
   "metadata": {},
   "outputs": [],
   "source": [
    "# Initialize the story generator\n",
    "generator = StoryStructure()\n",
    "\n",
    "# Generate the story and return all components\n",
    "result = generator(test_file)"
   ]
  },
  {
   "cell_type": "code",
   "execution_count": 46,
   "metadata": {},
   "outputs": [],
   "source": [
    "def print_story_result(result_dict):\n",
    "    print(\"\\n\" + \"=\"*50 + \" TEMAS \" + \"=\"*50)\n",
    "    print(result_dict['themes'])\n",
    "    \n",
    "    print(\"\\n\" + \"=\"*50 + \" MORAL \" + \"=\"*50)\n",
    "    print(result_dict['moral'])\n",
    "    \n",
    "    print(\"\\n\" + \"=\"*50 + \" HISTORIA \" + \"=\"*50)\n",
    "    print(result_dict['story'])\n",
    "    \n",
    "    print(\"\\n\" + \"=\"*50 + \" RAZONAMIENTO \" + \"=\"*50)\n",
    "    print(result_dict['reasoning'])\n",
    "    print(\"\\n\" + \"=\"*120)\n"
   ]
  },
  {
   "cell_type": "code",
   "execution_count": 52,
   "metadata": {},
   "outputs": [
    {
     "name": "stdout",
     "output_type": "stream",
     "text": [
      "\n",
      "================================================== TEMAS ==================================================\n",
      "Los temas clave incluyen la venganza, la subestimación de los demás, y la astucia. Los personajes principales son el águila, que representa la fuerza y el desprecio, la liebre, que simboliza la vulnerabilidad, y el escarabajo, que encarna la inteligencia y la perseverancia.\n",
      "\n",
      "================================================== MORAL ==================================================\n",
      "Nunca desprecies lo que parece insignificante, pues no hay ser tan débil que no pueda alcanzarte.\n",
      "\n",
      "================================================== HISTORIA ==================================================\n",
      "En un vasto y hermoso bosque, donde los árboles susurraban secretos y los ríos cantaban melodías, vivía un majestuoso águila. Con sus alas extendidas, dominaba el cielo, y todos los animales la temían. Un día, mientras volaba en busca de su próxima presa, avistó a una liebre que saltaba alegremente entre los arbustos. Sin pensarlo dos veces, el águila se lanzó en picada, decidida a atrapar a su cena.\n",
      "\n",
      "La liebre, al darse cuenta del peligro, sintió que su corazón latía con fuerza. Desesperada, miró a su alrededor y vio a un pequeño escarabajo que caminaba lentamente por el suelo. \"¡Ayúdame, por favor!\" suplicó la liebre. \"El águila me está persiguiendo y no tengo a dónde ir.\"\n",
      "\n",
      "El escarabajo, aunque pequeño, se armó de valor y se dirigió al águila. \"Oh, gran águila, por favor, perdona a mi amiga la liebre. Ella no es más que un pequeño bocado para ti, pero su vida es valiosa.\"\n",
      "\n",
      "El águila, riendo ante la insignificancia del escarabajo, respondió: \"¿Qué puedes hacer tú, pequeño insecto? No eres más que un punto en el suelo.\" Y con un rápido movimiento, devoró a la liebre, dejando al escarabajo lleno de furia y tristeza.\n",
      "\n",
      "Desde ese día, el escarabajo juró vengar a su amiga. Observó al águila y descubrió dónde ponía sus huevos en un nido alto y seguro. Con astucia, comenzó a rodar los huevos del nido, haciéndolos caer al suelo. El águila, al ver que sus huevos desaparecían, se llenó de frustración y decidió acudir a Zeus, el rey de los dioses, en busca de ayuda.\n",
      "\n",
      "Zeus, compasivo, le ofreció un lugar seguro en su regazo para que pudiera depositar sus huevos. Pero el escarabajo, que había seguido a la águila, vio la oportunidad perfecta. Con una bolita de estiércol en su pequeño cuerpo, voló hacia Zeus y la dejó caer sobre su regazo.\n",
      "\n",
      "Zeus, sorprendido por la suciedad, se levantó rápidamente para sacudirse, y sin darse cuenta, arrojó los huevos al suelo. El águila, furiosa y sin huevos, comprendió que había subestimado al escarabajo.\n",
      "\n",
      "Desde entonces, las águilas aprendieron a no poner sus huevos en la época en que los escarabajos volaban, recordando siempre que incluso los seres más pequeños pueden causar grandes problemas. Y así, el escarabajo, con su astucia y perseverancia, demostró que nunca se debe despreciar a lo que parece insignificante.\n",
      "\n",
      "================================================== RAZONAMIENTO ==================================================\n",
      "La historia presenta un conflicto entre tres personajes: el águila, la liebre y el escarabajo. La liebre, al verse en peligro, busca ayuda del escarabajo, quien intenta interceder ante el águila. Sin embargo, el águila desprecia al escarabajo y devora a la liebre, lo que desencadena el deseo de venganza del escarabajo. Este observa y actúa de manera astuta, causando problemas al águila al hacer rodar sus huevos. Finalmente, el escarabajo logra que Zeus, al intentar ayudar al águila, termine destruyendo sus huevos. La historia resalta la importancia de no subestimar a los que parecen débiles, ya que pueden tener un impacto significativo.\n",
      "\n",
      "========================================================================================================================\n"
     ]
    }
   ],
   "source": [
    "# Print the result\n",
    "print_story_result(result)"
   ]
  },
  {
   "cell_type": "code",
   "execution_count": 51,
   "metadata": {},
   "outputs": [],
   "source": [
    "with open(\"new_story.txt\", 'w', encoding='utf-8') as f:\n",
    "        f.write(result[\"story\"])"
   ]
  }
 ],
 "metadata": {
  "kernelspec": {
   "display_name": "podcast-llama-cond-env",
   "language": "python",
   "name": "python3"
  },
  "language_info": {
   "codemirror_mode": {
    "name": "ipython",
    "version": 3
   },
   "file_extension": ".py",
   "mimetype": "text/x-python",
   "name": "python",
   "nbconvert_exporter": "python",
   "pygments_lexer": "ipython3",
   "version": "3.11.10"
  }
 },
 "nbformat": 4,
 "nbformat_minor": 2
}
