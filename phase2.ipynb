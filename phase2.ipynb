{
 "cells": [
  {
   "cell_type": "markdown",
   "metadata": {},
   "source": [
    "# Phase 2: Story Structure"
   ]
  },
  {
   "cell_type": "markdown",
   "metadata": {},
   "source": [
    "This phase is the most important on this project. We are making the story structure so we basically have 3 steps for this:\n",
    "\n",
    "* Start defining the ASP approach.\n",
    "* Use the Sentiment Analysis to create emotional integration\n",
    "* The system generates multiple valid outlines that satisfy our constrains, ensuring both logical coherence and emotional resonance.\n",
    "\n",
    "So in more detail what we will be doing in code is defining multiple functions, here are the key components:\n",
    "\n",
    "1. Scene structure foundation.\n",
    "2. Narrative Functions.\n",
    "3. Constrain System.\n",
    "4. Implementation features.\n",
    " "
   ]
  },
  {
   "cell_type": "code",
   "execution_count": 20,
   "metadata": {},
   "outputs": [],
   "source": [
    "# import the principal libraries\n",
    "import pandas as pd \n",
    "import numpy as np \n",
    "import torch\n",
    "import os\n",
    "from groq import Groq, Client\n",
    "from dotenv import load_dotenv \n",
    "\n",
    "\n",
    "# import typos\n",
    "from typing import Dict, Tuple, Optional, List, Set, Optional\n",
    "\n",
    "# import other libraries\n",
    "from enum import Enum \n",
    "from dataclasses import dataclass"
   ]
  },
  {
   "cell_type": "code",
   "execution_count": 13,
   "metadata": {},
   "outputs": [],
   "source": [
    "# import keys from .env\n",
    "load_dotenv()\n",
    "groq_api_key = os.getenv(\"GROQ_API_KEY\")\n",
    "client = Client(\n",
    "    api_key=groq_api_key\n",
    "    )\n",
    "\n",
    "# Load the clean document\n",
    "doc_path = \"cleaned_text.txt\"\n",
    "with open(doc_path, \"r\") as f:\n",
    "    INPUT_FILE = f.read()"
   ]
  },
  {
   "cell_type": "code",
   "execution_count": 12,
   "metadata": {},
   "outputs": [
    {
     "name": "stdout",
     "output_type": "stream",
     "text": [
      "14995\n"
     ]
    }
   ],
   "source": [
    "print(len(INPUT_FILE))\n"
   ]
  },
  {
   "cell_type": "markdown",
   "metadata": {},
   "source": [
    "### 1. Structure Scene Fundation"
   ]
  },
  {
   "cell_type": "code",
   "execution_count": null,
   "metadata": {},
   "outputs": [],
   "source": [
    "class ScenePosition(Enum):\n",
    "    HOOK = \"hook\"\n",
    "    BUILD_UP = \"build_up\"\n",
    "    FIRST_PLOT_POINT = \"first_plot_point\"\n",
    "    RISING_CONFLICTS = \"rising_conflicts\"\n",
    "    CLIMAX = \"climax\"\n",
    "    FALLING_ACTION = \"falling_action\"\n",
    "    RESOLUTION = \"resolution\""
   ]
  },
  {
   "cell_type": "code",
   "execution_count": 22,
   "metadata": {},
   "outputs": [],
   "source": [
    "@dataclass\n",
    "class SceneRequirements:\n",
    "    min_duration: int\n",
    "    max_duration: int\n",
    "    required_elements: List[str]\n",
    "    forbidden_elements: List[str]\n",
    "\n",
    "class SceneTemplate:\n",
    "    def __init__(self, position:ScenePosition):\n",
    "        self.position = position\n",
    "        self.requirements = SceneRequirements\n",
    "\n",
    "    def _get_requirements(self):\n",
    "        \"\"\"\"We define some requirements for each scene position\"\"\"\n",
    "        if self.position == ScenePosition.HOOK:\n",
    "            return SceneRequirements(\n",
    "                min_duration=2,\n",
    "                max_duration=4,\n",
    "                required_elements={\"protagonist\", \"setting_establishment\"},\n",
    "                forbidden_elements={\"major_revelation\", \"climactic_conflict\"}\n",
    "            )\n",
    "        elif self.position == ScenePosition.BUILD_UP:\n",
    "            return SceneRequirements(\n",
    "                min_duration=3,\n",
    "                max_duration=6,\n",
    "                required_elements={\"conflict_introduction\", \"character_development\"},\n",
    "                forbidden_elements={\"resolution\", \"major_plot_twist\"}\n",
    "            )"
   ]
  },
  {
   "cell_type": "code",
   "execution_count": null,
   "metadata": {},
   "outputs": [],
   "source": []
  },
  {
   "cell_type": "code",
   "execution_count": 5,
   "metadata": {},
   "outputs": [],
   "source": [
    "client = Client(\n",
    "    api_key=groq_api_key\n",
    "    )"
   ]
  }
 ],
 "metadata": {
  "kernelspec": {
   "display_name": "podcast-llama-cond-env",
   "language": "python",
   "name": "python3"
  },
  "language_info": {
   "codemirror_mode": {
    "name": "ipython",
    "version": 3
   },
   "file_extension": ".py",
   "mimetype": "text/x-python",
   "name": "python",
   "nbconvert_exporter": "python",
   "pygments_lexer": "ipython3",
   "version": "3.11.10"
  }
 },
 "nbformat": 4,
 "nbformat_minor": 2
}
